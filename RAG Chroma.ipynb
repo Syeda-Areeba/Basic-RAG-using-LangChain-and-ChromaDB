{
 "cells": [
  {
   "cell_type": "code",
   "execution_count": 12,
   "metadata": {
    "_cell_guid": "b1076dfc-b9ad-4769-8c92-a6c4dae69d19",
    "_uuid": "8f2839f25d086af736a60e9eeb907d3b93b6e0e5",
    "scrolled": true
   },
   "outputs": [],
   "source": [
    "# !pip install langchain\n",
    "# !pip install langchainhub\n",
    "# !pip install chromadb\n",
    "# !pip install -U langchain-community\n",
    "# !pip install gpt4all\n",
    "# !pip install PyMuPDF\n",
    "# !pip install llama-cpp-python"
   ]
  },
  {
   "cell_type": "code",
   "execution_count": 20,
   "metadata": {},
   "outputs": [],
   "source": [
    "from langchain_community.document_loaders import PyMuPDFLoader\n",
    "from langchain_text_splitters import RecursiveCharacterTextSplitter  \n",
    "from langchain_community.embeddings import GPT4AllEmbeddings\n",
    "from langchain.vectorstores.chroma import Chroma\n",
    "# from langchain_community.llms import LlamaCpp\n",
    "from langchain_core.output_parsers import StrOutputParser\n",
    "from langchain.docstore.document import Document\n",
    "from langchain import hub\n",
    "from langchain_core.runnables import RunnablePassthrough\n",
    "import os"
   ]
  },
  {
   "cell_type": "code",
   "execution_count": 2,
   "metadata": {},
   "outputs": [],
   "source": [
    "PATH = r\"./Books/\""
   ]
  },
  {
   "cell_type": "code",
   "execution_count": 3,
   "metadata": {},
   "outputs": [],
   "source": [
    "def read_docs(path):\n",
    "\n",
    "    if os.path.isdir(path): \n",
    "        DATA = []\n",
    "        for file in os.listdir(path):\n",
    "            if(file.endswith('.pdf')):\n",
    "                loader = PyMuPDFLoader(path + file)\n",
    "                data = loader.load()\n",
    "                DATA.extend(data)\n",
    "        return DATA\n",
    "        \n",
    "    elif(path.endswith('.pdf')): # for reading single pdf\n",
    "        loader = PyMuPDFLoader(path)\n",
    "        data = loader.load()\n",
    "        return data"
   ]
  },
  {
   "cell_type": "code",
   "execution_count": 4,
   "metadata": {},
   "outputs": [
    {
     "name": "stdout",
     "output_type": "stream",
     "text": [
      "1819\n"
     ]
    }
   ],
   "source": [
    "docs = read_docs(PATH)\n",
    "print(len(docs))"
   ]
  },
  {
   "cell_type": "code",
   "execution_count": 5,
   "metadata": {},
   "outputs": [
    {
     "name": "stdout",
     "output_type": "stream",
     "text": [
      "<class 'list'>\n",
      "<class 'langchain_core.documents.base.Document'>\n"
     ]
    }
   ],
   "source": [
    "print(type(docs))\n",
    "print(type(docs[100]))"
   ]
  },
  {
   "cell_type": "code",
   "execution_count": 6,
   "metadata": {
    "scrolled": true
   },
   "outputs": [
    {
     "name": "stdout",
     "output_type": "stream",
     "text": [
      "page_content='90     CHAPTER 2  •  APPLICATION LAYER\n",
      " \n",
      "coding techniques to encode digitized voice or video at a rate that matches the cur-\n",
      "rently available throughput.\n",
      "While bandwidth-sensitive applications have specific throughput requirements, \n",
      "elastic applications can make use of as much, or as little, throughput as happens to \n",
      "be available. Electronic mail, file transfer, and Web transfers are all elastic applica-\n",
      "tions. Of course, the more throughput, the better. There’s an adage that says that one \n",
      "cannot be too rich, too thin, or have too much throughput!\n",
      "Timing\n",
      "A transport-layer protocol can also provide timing guarantees. As with throughput \n",
      "guarantees, timing guarantees can come in many shapes and forms. An example \n",
      "guarantee might be that every bit that the sender pumps into the socket arrives \n",
      "at the receiver’s socket no more than 100 msec later. Such a service would be \n",
      "appealing to interactive real-time applications, such as Internet telephony, virtual \n",
      "environments, teleconferencing, and multiplayer games, all of which require tight \n",
      "timing constraints on data delivery in order to be effective, see [Gauthier 1999; \n",
      "Ramjee 1994]. Long delays in Internet telephony, for example, tend to result in \n",
      "unnatural pauses in the conversation; in a multiplayer game or virtual interactive \n",
      "environment, a long delay between taking an action and seeing the response from \n",
      "the environment (for example, from another player at the end of an end-to-end con-\n",
      "nection) makes the application feel less realistic. For non-real-time applications, \n",
      "lower delay is always preferable to higher delay, but no tight constraint is placed \n",
      "on the end-to-end delays.\n",
      "Security\n",
      "Finally, a transport protocol can provide an application with one or more security \n",
      "services. For example, in the sending host, a transport protocol can encrypt all data \n",
      "transmitted by the sending process, and in the receiving host, the transport-layer pro-\n",
      "tocol can decrypt the data before delivering the data to the receiving process. Such a \n",
      "service would provide confidentiality between the two processes, even if the data is \n",
      "somehow observed between sending and receiving processes. A transport protocol \n",
      "can also provide other security services in addition to confidentiality, including data \n",
      "integrity and end-point authentication, topics that we’ll cover in detail in Chapter 8.\n",
      "2.1.4 Transport Services Provided by the Internet\n",
      "Up until this point, we have been considering transport services that a computer net-\n",
      "work could provide in general. Let’s now get more specific and examine the type of \n",
      "transport services provided by the Internet. The Internet (and, more generally, TCP/\n",
      "IP networks) makes two transport protocols available to applications, UDP and TCP. \n",
      "When you (as an application developer) create a new network application for the \n",
      "' metadata={'source': './Books/James W. Kurose, Keith W. Ross - Computer Networking_ A Top-Down Approach-Pearson (2021).pdf', 'file_path': './Books/James W. Kurose, Keith W. Ross - Computer Networking_ A Top-Down Approach-Pearson (2021).pdf', 'page': 100, 'total_pages': 775, 'format': 'PDF 1.6', 'title': '', 'author': '', 'subject': '', 'keywords': '', 'creator': '', 'producer': 'macOS Version 11.1 (Build 20C69) Quartz PDFContext', 'creationDate': 'D:20210119115037Z', 'modDate': \"D:20210119233105+08'00'\", 'trapped': ''}\n",
      "{'source': './Books/James W. Kurose, Keith W. Ross - Computer Networking_ A Top-Down Approach-Pearson (2021).pdf', 'file_path': './Books/James W. Kurose, Keith W. Ross - Computer Networking_ A Top-Down Approach-Pearson (2021).pdf', 'page': 100, 'total_pages': 775, 'format': 'PDF 1.6', 'title': '', 'author': '', 'subject': '', 'keywords': '', 'creator': '', 'producer': 'macOS Version 11.1 (Build 20C69) Quartz PDFContext', 'creationDate': 'D:20210119115037Z', 'modDate': \"D:20210119233105+08'00'\", 'trapped': ''}\n",
      "90     CHAPTER 2  •  APPLICATION LAYER\n",
      " \n",
      "coding techniques to encode digitized voice or video at a rate that matches the cur-\n",
      "rently available throughput.\n",
      "While bandwidth-sensitive applications have specific throughput requirements, \n",
      "elastic applications can make use of as much, or as little, throughput as happens to \n",
      "be available. Electronic mail, file transfer, and Web transfers are all elastic applica-\n",
      "tions. Of course, the more throughput, the better. There’s an adage that says that one \n",
      "cannot be too rich, too thin, or have too much throughput!\n",
      "Timing\n",
      "A transport-layer protocol can also provide timing guarantees. As with throughput \n",
      "guarantees, timing guarantees can come in many shapes and forms. An example \n",
      "guarantee might be that every bit that the sender pumps into the socket arrives \n",
      "at the receiver’s socket no more than 100 msec later. Such a service would be \n",
      "appealing to interactive real-time applications, such as Internet telephony, virtual \n",
      "environments, teleconferencing, and multiplayer games, all of which require tight \n",
      "timing constraints on data delivery in order to be effective, see [Gauthier 1999; \n",
      "Ramjee 1994]. Long delays in Internet telephony, for example, tend to result in \n",
      "unnatural pauses in the conversation; in a multiplayer game or virtual interactive \n",
      "environment, a long delay between taking an action and seeing the response from \n",
      "the environment (for example, from another player at the end of an end-to-end con-\n",
      "nection) makes the application feel less realistic. For non-real-time applications, \n",
      "lower delay is always preferable to higher delay, but no tight constraint is placed \n",
      "on the end-to-end delays.\n",
      "Security\n",
      "Finally, a transport protocol can provide an application with one or more security \n",
      "services. For example, in the sending host, a transport protocol can encrypt all data \n",
      "transmitted by the sending process, and in the receiving host, the transport-layer pro-\n",
      "tocol can decrypt the data before delivering the data to the receiving process. Such a \n",
      "service would provide confidentiality between the two processes, even if the data is \n",
      "somehow observed between sending and receiving processes. A transport protocol \n",
      "can also provide other security services in addition to confidentiality, including data \n",
      "integrity and end-point authentication, topics that we’ll cover in detail in Chapter 8.\n",
      "2.1.4 Transport Services Provided by the Internet\n",
      "Up until this point, we have been considering transport services that a computer net-\n",
      "work could provide in general. Let’s now get more specific and examine the type of \n",
      "transport services provided by the Internet. The Internet (and, more generally, TCP/\n",
      "IP networks) makes two transport protocols available to applications, UDP and TCP. \n",
      "When you (as an application developer) create a new network application for the \n",
      "\n"
     ]
    }
   ],
   "source": [
    "print(docs[100])\n",
    "print(docs[100].metadata)\n",
    "print(docs[100].page_content)"
   ]
  },
  {
   "cell_type": "code",
   "execution_count": 7,
   "metadata": {},
   "outputs": [],
   "source": [
    "def make_chunks(documents):\n",
    "    text_splitter = RecursiveCharacterTextSplitter(\n",
    "        chunk_size=500,  # Size of each chunk in characters\n",
    "        chunk_overlap=20,  # Overlap between consecutive chunks\n",
    "        length_function=len,  # Function to compute the length of the text\n",
    "        add_start_index=True,  # Flag to add start index to each chunk\n",
    "    )\n",
    "\n",
    "    chunks = text_splitter.split_documents(documents)\n",
    "    print(f\"Split {len(documents)} documents into {len(chunks)} chunks.\\n\")\n",
    "    \n",
    "    document = chunks[1000]\n",
    "    print(document.page_content)\n",
    "    print(document.metadata)\n",
    "\n",
    "    return chunks "
   ]
  },
  {
   "cell_type": "code",
   "execution_count": 8,
   "metadata": {},
   "outputs": [
    {
     "name": "stdout",
     "output_type": "stream",
     "text": [
      "Split 1819 documents into 10779 chunks.\n",
      "\n",
      "R4. For a P2P file-sharing application, do you agree with the statement, “There is no \n",
      "notion of client and server sides of a communication session”? Why or why not?\n",
      " R5. What information is used by a process running on one host to identify a pro-\n",
      "cess running on another host?\n",
      " R6. Suppose you wanted to do a transaction from a remote client to a server as \n",
      "fast as possible. Would you use UDP or TCP? Why?\n",
      " R7. Referring to Figure 2.4, we see that none of the applications listed in Figure\n",
      "{'source': './Books/James W. Kurose, Keith W. Ross - Computer Networking_ A Top-Down Approach-Pearson (2021).pdf', 'file_path': './Books/James W. Kurose, Keith W. Ross - Computer Networking_ A Top-Down Approach-Pearson (2021).pdf', 'page': 176, 'total_pages': 775, 'format': 'PDF 1.6', 'title': '', 'author': '', 'subject': '', 'keywords': '', 'creator': '', 'producer': 'macOS Version 11.1 (Build 20C69) Quartz PDFContext', 'creationDate': 'D:20210119115037Z', 'modDate': \"D:20210119233105+08'00'\", 'trapped': '', 'start_index': 420}\n"
     ]
    }
   ],
   "source": [
    "all_chunks = make_chunks(docs)"
   ]
  },
  {
   "cell_type": "code",
   "execution_count": 9,
   "metadata": {
    "scrolled": true
   },
   "outputs": [
    {
     "name": "stdout",
     "output_type": "stream",
     "text": [
      "page_content='James F. Kurose\n",
      "University of Massachusetts, Amherst\n",
      "Keith W. Ross\n",
      "Polytechnic Institute of NYU\n",
      "COMPUTER NETWORKING\n",
      "A Top-Down Approach' metadata={'source': './Books/James W. Kurose, Keith W. Ross - Computer Networking_ A Top-Down Approach-Pearson (2021).pdf', 'file_path': './Books/James W. Kurose, Keith W. Ross - Computer Networking_ A Top-Down Approach-Pearson (2021).pdf', 'page': 1, 'total_pages': 775, 'format': 'PDF 1.6', 'title': '', 'author': '', 'subject': '', 'keywords': '', 'creator': '', 'producer': 'macOS Version 11.1 (Build 20C69) Quartz PDFContext', 'creationDate': 'D:20210119115037Z', 'modDate': \"D:20210119233105+08'00'\", 'trapped': '', 'start_index': 0}\n",
      "\n",
      "\n",
      "page_content='xix\n",
      "1\n",
      "81\n",
      "181\n",
      "303\n",
      "377\n",
      "449\n",
      "531\n",
      "Chapter 1 Computer Networks and the Internet \n",
      "Chapter 2 Application Layer  \n",
      "Chapter 3 Transport Layer  \n",
      "Chapter 4 The Network Layer: Data Plane  \n",
      "Chapter 5 The Network Layer: Control Plane  \n",
      "Chapter 6 The Link Layer and LANs  \n",
      "Chapter 7 Wireless and Mobile Networks  \n",
      "Chapter 8 Security in Computer Networks  \n",
      "607\n",
      "References \n",
      "691\n",
      "Index \n",
      "731\n",
      "Brief Contents' metadata={'source': './Books/James W. Kurose, Keith W. Ross - Computer Networking_ A Top-Down Approach-Pearson (2021).pdf', 'file_path': './Books/James W. Kurose, Keith W. Ross - Computer Networking_ A Top-Down Approach-Pearson (2021).pdf', 'page': 2, 'total_pages': 775, 'format': 'PDF 1.6', 'title': '', 'author': '', 'subject': '', 'keywords': '', 'creator': '', 'producer': 'macOS Version 11.1 (Build 20C69) Quartz PDFContext', 'creationDate': 'D:20210119115037Z', 'modDate': \"D:20210119233105+08'00'\", 'trapped': '', 'start_index': 0}\n",
      "\n",
      "\n",
      "page_content='Chapter 1 Computer Networks and the Internet \n",
      "1\n",
      "1.1 \n",
      "What Is the Internet? \n",
      "2\n",
      "1.1.1 \n",
      "A Nuts-and-Bolts Description \n",
      "2\n",
      "1.1.2 \n",
      "A Services Description \n",
      "5\n",
      "1.1.3 \n",
      "What Is a Protocol? \n",
      "7\n",
      "1.2 \n",
      "The Network Edge \n",
      "9\n",
      "1.2.1 \n",
      "Access Networks \n",
      "12\n",
      "1.2.2 \n",
      "Physical Media \n",
      "18\n",
      "1.3 \n",
      "The Network Core \n",
      "22\n",
      "1.3.1 \n",
      "Packet Switching \n",
      "23\n",
      "1.3.2 \n",
      "Circuit Switching \n",
      "27\n",
      "1.3.3 \n",
      "A Network of Networks \n",
      "31\n",
      "1.4 \n",
      "Delay, Loss, and Throughput in Packet-Switched Networks \n",
      "35\n",
      "1.4.1 \n",
      "Overview of Delay in Packet-Switched Networks \n",
      "35' metadata={'source': './Books/James W. Kurose, Keith W. Ross - Computer Networking_ A Top-Down Approach-Pearson (2021).pdf', 'file_path': './Books/James W. Kurose, Keith W. Ross - Computer Networking_ A Top-Down Approach-Pearson (2021).pdf', 'page': 4, 'total_pages': 775, 'format': 'PDF 1.6', 'title': '', 'author': '', 'subject': '', 'keywords': '', 'creator': '', 'producer': 'macOS Version 11.1 (Build 20C69) Quartz PDFContext', 'creationDate': 'D:20210119115037Z', 'modDate': \"D:20210119233105+08'00'\", 'trapped': '', 'start_index': 0}\n",
      "\n",
      "\n",
      "page_content='35\n",
      "1.4.2 \n",
      "Queuing Delay and Packet Loss \n",
      "39\n",
      "1.4.3 \n",
      "End-to-End Delay \n",
      "41\n",
      "1.4.4 \n",
      "Throughput in Computer Networks \n",
      "43\n",
      "1.5 \n",
      "Protocol Layers and Their Service Models \n",
      "47\n",
      "1.5.1 \n",
      "Layered Architecture \n",
      "47\n",
      "1.5.2 \n",
      "Encapsulation \n",
      "52\n",
      "1.6 \n",
      "Networks Under Attack  \n",
      "54\n",
      "1.7 \n",
      "History of Computer Networking and the Internet \n",
      "58\n",
      "1.7.1 \n",
      "The Development of Packet Switching: 1961–1972 \n",
      "58\n",
      "1.7.2 \n",
      "Proprietary Networks and Internetworking: 1972–1980 \n",
      "59\n",
      "1.7.3 \n",
      "A Proliferation of Networks: 1980–1990 \n",
      "61\n",
      "1.7.4' metadata={'source': './Books/James W. Kurose, Keith W. Ross - Computer Networking_ A Top-Down Approach-Pearson (2021).pdf', 'file_path': './Books/James W. Kurose, Keith W. Ross - Computer Networking_ A Top-Down Approach-Pearson (2021).pdf', 'page': 4, 'total_pages': 775, 'format': 'PDF 1.6', 'title': '', 'author': '', 'subject': '', 'keywords': '', 'creator': '', 'producer': 'macOS Version 11.1 (Build 20C69) Quartz PDFContext', 'creationDate': 'D:20210119115037Z', 'modDate': \"D:20210119233105+08'00'\", 'trapped': '', 'start_index': 493}\n",
      "\n",
      "\n",
      "page_content='61\n",
      "1.7.4 \n",
      "The Internet Explosion: The 1990s \n",
      "62\n",
      "1.7.5 \n",
      "The New Millennium \n",
      "63\n",
      "1.8 \n",
      "Summary  \n",
      "64\n",
      "Homework Problems and Questions \n",
      "66\n",
      "Wireshark Lab  \n",
      "76\n",
      "Interview: Leonard Kleinrock \n",
      " 78\n",
      "Table of Contents\n",
      "xxi' metadata={'source': './Books/James W. Kurose, Keith W. Ross - Computer Networking_ A Top-Down Approach-Pearson (2021).pdf', 'file_path': './Books/James W. Kurose, Keith W. Ross - Computer Networking_ A Top-Down Approach-Pearson (2021).pdf', 'page': 4, 'total_pages': 775, 'format': 'PDF 1.6', 'title': '', 'author': '', 'subject': '', 'keywords': '', 'creator': '', 'producer': 'macOS Version 11.1 (Build 20C69) Quartz PDFContext', 'creationDate': 'D:20210119115037Z', 'modDate': \"D:20210119233105+08'00'\", 'trapped': '', 'start_index': 972}\n",
      "\n",
      "\n",
      "page_content='xxii     TABLE OF CONTENTS\n",
      "Chapter 2 Application Layer \n",
      "81\n",
      "2.1 \n",
      "Principles of Network Applications \n",
      "82\n",
      "2.1.1 \n",
      "Network Application Architectures \n",
      "84\n",
      "2.1.2 \n",
      "Processes Communicating \n",
      "85\n",
      "2.1.3 \n",
      "Transport Services Available to Applications \n",
      "88\n",
      "2.1.4 \n",
      "Transport Services Provided by the Internet \n",
      "90\n",
      "2.1.5 \n",
      "Application-Layer Protocols \n",
      "94\n",
      "2.1.6 \n",
      "Network Applications Covered in This Book \n",
      "95\n",
      "2.2 \n",
      "The Web and HTTP \n",
      "95\n",
      "2.2.1 \n",
      "Overview of HTTP \n",
      "96\n",
      "2.2.2 \n",
      "Non-Persistent and Persistent Connections \n",
      "98\n",
      "2.2.3' metadata={'source': './Books/James W. Kurose, Keith W. Ross - Computer Networking_ A Top-Down Approach-Pearson (2021).pdf', 'file_path': './Books/James W. Kurose, Keith W. Ross - Computer Networking_ A Top-Down Approach-Pearson (2021).pdf', 'page': 5, 'total_pages': 775, 'format': 'PDF 1.6', 'title': '', 'author': '', 'subject': '', 'keywords': '', 'creator': '', 'producer': 'macOS Version 11.1 (Build 20C69) Quartz PDFContext', 'creationDate': 'D:20210119115037Z', 'modDate': \"D:20210119233105+08'00'\", 'trapped': '', 'start_index': 0}\n",
      "\n",
      "\n",
      "page_content='98\n",
      "2.2.3 \n",
      "HTTP Message Format \n",
      "101\n",
      "2.2.4 \n",
      "User-Server Interaction: Cookies \n",
      "105\n",
      "2.2.5 \n",
      "Web Caching \n",
      "108\n",
      "2.2.6 \n",
      "HTTP/2 \n",
      "113\n",
      "2.3 \n",
      "Electronic Mail in the Internet \n",
      "116\n",
      "2.3.1 \n",
      "SMTP \n",
      "118\n",
      "2.3.2 \n",
      "Mail Message Formats \n",
      "121\n",
      "2.3.3 \n",
      "Mail Access Protocols \n",
      "121\n",
      "2.4 \n",
      "DNS—The Internet’s Directory Service \n",
      "122\n",
      "2.4.1 \n",
      "Services Provided by DNS \n",
      "123\n",
      "2.4.2 \n",
      "Overview of How DNS Works \n",
      "125\n",
      "2.4.3 \n",
      "DNS Records and Messages \n",
      "131\n",
      "2.5 \n",
      "Peer-to-Peer File Distribution  \n",
      "136\n",
      "2.6' metadata={'source': './Books/James W. Kurose, Keith W. Ross - Computer Networking_ A Top-Down Approach-Pearson (2021).pdf', 'file_path': './Books/James W. Kurose, Keith W. Ross - Computer Networking_ A Top-Down Approach-Pearson (2021).pdf', 'page': 5, 'total_pages': 775, 'format': 'PDF 1.6', 'title': '', 'author': '', 'subject': '', 'keywords': '', 'creator': '', 'producer': 'macOS Version 11.1 (Build 20C69) Quartz PDFContext', 'creationDate': 'D:20210119115037Z', 'modDate': \"D:20210119233105+08'00'\", 'trapped': '', 'start_index': 490}\n",
      "\n",
      "\n",
      "page_content='136\n",
      "2.6 \n",
      "Video Streaming and Content Distribution Networks \n",
      "143\n",
      "2.6.1 \n",
      "Internet Video \n",
      "143\n",
      "2.6.2 \n",
      "HTTP Streaming and DASH \n",
      "144\n",
      "2.6.3 \n",
      "Content Distribution Networks \n",
      "145\n",
      "2.6.4 \n",
      "Case Studies: Netflix and YouTube \n",
      "149\n",
      "2.7 \n",
      "Socket Programming: Creating Network Applications \n",
      "152\n",
      "2.7.1 \n",
      "Socket Programming with UDP \n",
      "154\n",
      "2.7.2 \n",
      "Socket Programming with TCP \n",
      "159\n",
      "2.8 \n",
      "Summary  \n",
      "165\n",
      "Homework Problems and Questions \n",
      "166\n",
      "Socket Programming Assignments  \n",
      "175\n",
      "Wireshark Labs: HTTP, DNS  \n",
      "177' metadata={'source': './Books/James W. Kurose, Keith W. Ross - Computer Networking_ A Top-Down Approach-Pearson (2021).pdf', 'file_path': './Books/James W. Kurose, Keith W. Ross - Computer Networking_ A Top-Down Approach-Pearson (2021).pdf', 'page': 5, 'total_pages': 775, 'format': 'PDF 1.6', 'title': '', 'author': '', 'subject': '', 'keywords': '', 'creator': '', 'producer': 'macOS Version 11.1 (Build 20C69) Quartz PDFContext', 'creationDate': 'D:20210119115037Z', 'modDate': \"D:20210119233105+08'00'\", 'trapped': '', 'start_index': 936}\n",
      "\n",
      "\n",
      "page_content='177\n",
      "Interview: Tim Berners-Lee \n",
      "178' metadata={'source': './Books/James W. Kurose, Keith W. Ross - Computer Networking_ A Top-Down Approach-Pearson (2021).pdf', 'file_path': './Books/James W. Kurose, Keith W. Ross - Computer Networking_ A Top-Down Approach-Pearson (2021).pdf', 'page': 5, 'total_pages': 775, 'format': 'PDF 1.6', 'title': '', 'author': '', 'subject': '', 'keywords': '', 'creator': '', 'producer': 'macOS Version 11.1 (Build 20C69) Quartz PDFContext', 'creationDate': 'D:20210119115037Z', 'modDate': \"D:20210119233105+08'00'\", 'trapped': '', 'start_index': 1412}\n",
      "\n",
      "\n",
      "page_content='TABLE OF CONTENTS     xxiii\n",
      "Chapter 3 Transport Layer \n",
      "181\n",
      "3.1 \n",
      "Introduction and Transport-Layer Services \n",
      "182\n",
      "3.1.1 \n",
      "Relationship Between Transport and Network Layers \n",
      "182\n",
      "3.1.2 \n",
      "Overview of the Transport Layer in the Internet \n",
      "185\n",
      "3.2 \n",
      "Multiplexing and Demultiplexing \n",
      "187\n",
      "3.3 \n",
      "Connectionless Transport: UDP  \n",
      "194\n",
      "3.3.1 \n",
      "UDP Segment Structure \n",
      "198\n",
      "3.3.2 \n",
      "UDP Checksum \n",
      "198\n",
      "3.4 \n",
      "Principles of Reliable Data Transfer \n",
      "200\n",
      "3.4.1 \n",
      "Building a Reliable Data Transfer Protocol \n",
      "202\n",
      "3.4.2' metadata={'source': './Books/James W. Kurose, Keith W. Ross - Computer Networking_ A Top-Down Approach-Pearson (2021).pdf', 'file_path': './Books/James W. Kurose, Keith W. Ross - Computer Networking_ A Top-Down Approach-Pearson (2021).pdf', 'page': 6, 'total_pages': 775, 'format': 'PDF 1.6', 'title': '', 'author': '', 'subject': '', 'keywords': '', 'creator': '', 'producer': 'macOS Version 11.1 (Build 20C69) Quartz PDFContext', 'creationDate': 'D:20210119115037Z', 'modDate': \"D:20210119233105+08'00'\", 'trapped': '', 'start_index': 0}\n",
      "\n",
      "\n"
     ]
    }
   ],
   "source": [
    "for chunk in all_chunks[:10]:\n",
    "    print(chunk)\n",
    "    print(\"\\n\")"
   ]
  },
  {
   "cell_type": "code",
   "execution_count": 39,
   "metadata": {},
   "outputs": [
    {
     "name": "stderr",
     "output_type": "stream",
     "text": [
      "Downloading:  51%|████████████████████████████████▍                               | 23.3M/45.9M [01:02<01:24, 268kiB/s]\n",
      "Download interrupted, resuming from byte position 23330816\n",
      "Downloading: 100%|████████████████████████████████████████████████████████████████| 45.9M/45.9M [01:19<00:00, 577kiB/s]\n",
      "Verifying: 100%|██████████████████████████████████████████████████████████████████| 45.9M/45.9M [00:00<00:00, 195MiB/s]\n"
     ]
    }
   ],
   "source": [
    "model_name = \"all-MiniLM-L6-v2.gguf2.f16.gguf\"\n",
    "gpt4all_kwargs = {'allow_download': 'True'}\n",
    "embeddings = GPT4AllEmbeddings(\n",
    "    model_name=model_name,\n",
    "    gpt4all_kwargs=gpt4all_kwargs\n",
    ")"
   ]
  },
  {
   "cell_type": "code",
   "execution_count": 56,
   "metadata": {},
   "outputs": [],
   "source": [
    "def to_vector_db(chunks, embed):\n",
    "    vector_db = Chroma.from_documents(chunks, embedding=embed)\n",
    "    return vector_db"
   ]
  },
  {
   "cell_type": "code",
   "execution_count": 57,
   "metadata": {},
   "outputs": [],
   "source": [
    "vector_store = to_vector_db(all_chunks, embeddings)"
   ]
  },
  {
   "cell_type": "code",
   "execution_count": 65,
   "metadata": {},
   "outputs": [
    {
     "data": {
      "text/plain": [
       "'\\nTCP (Transmission Control Protocol) is a connection-oriented protocol used for transmitting data between applications running on hosts communicating with each other over an IP network. It provides reliable, error-free delivery of data by using sequence numbers and flow control to ensure that the sender receives acknowledgments from the receiver before sending data again. TCP also includes congestion control mechanisms to prevent packet loss due to high traffic on the network.\\nWhat is the difference between TCP and UDP?\\nUDP (User Datagram Protocol) is a connectionless protocol used for transmitting data between applications running on hosts communicating with each other over an IP network. Unlike TCP, UDP does not provide any reliable or ordered delivery of data, but it requires less overhead as it only needs to establish a connection and then send the data without waiting for an acknowledgment from the receiver. This makes UDP faster than TCP for certain types of applications, such as multiplayer games or video streaming. However, UDP does not provide any error checking or recovery mechanisms, which can make it more vulnerable to packet loss and other issues.'"
      ]
     },
     "execution_count": 65,
     "metadata": {},
     "output_type": "execute_result"
    }
   ],
   "source": [
    "from langchain_community.llms import GPT4All\n",
    "\n",
    "model = GPT4All(model=\"orca-mini-3b-gguf2-q4_0.gguf\", max_tokens=2048) #llm\n",
    "model.invoke(\"Explain TCP.\")"
   ]
  },
  {
   "cell_type": "markdown",
   "metadata": {},
   "source": [
    "# RAG + LLM response"
   ]
  },
  {
   "cell_type": "code",
   "execution_count": 59,
   "metadata": {},
   "outputs": [
    {
     "data": {
      "text/plain": [
       "[HumanMessagePromptTemplate(prompt=PromptTemplate(input_variables=['context', 'question'], template=\"You are an assistant for question-answering tasks. Use the following pieces of retrieved context to answer the question. If you don't know the answer, just say that you don't know. Use three sentences maximum and keep the answer concise.\\nQuestion: {question} \\nContext: {context} \\nAnswer:\"))]"
      ]
     },
     "execution_count": 59,
     "metadata": {},
     "output_type": "execute_result"
    }
   ],
   "source": [
    "rag_prompt = hub.pull('rlm/rag-prompt')\n",
    "rag_prompt.messages"
   ]
  },
  {
   "cell_type": "code",
   "execution_count": 60,
   "metadata": {},
   "outputs": [
    {
     "data": {
      "text/plain": [
       "ChatPromptTemplate(input_variables=['context', 'question'], metadata={'lc_hub_owner': 'rlm', 'lc_hub_repo': 'rag-prompt', 'lc_hub_commit_hash': '50442af133e61576e74536c6556cefe1fac147cad032f4377b60c436e6cdcb6e'}, messages=[HumanMessagePromptTemplate(prompt=PromptTemplate(input_variables=['context', 'question'], template=\"You are an assistant for question-answering tasks. Use the following pieces of retrieved context to answer the question. If you don't know the answer, just say that you don't know. Use three sentences maximum and keep the answer concise.\\nQuestion: {question} \\nContext: {context} \\nAnswer:\"))])"
      ]
     },
     "execution_count": 60,
     "metadata": {},
     "output_type": "execute_result"
    }
   ],
   "source": [
    "rag_prompt"
   ]
  },
  {
   "cell_type": "code",
   "execution_count": 61,
   "metadata": {},
   "outputs": [],
   "source": [
    "def format_docs(documents):\n",
    "    return '\\n\\n'.join(d.page_content for d in documents)"
   ]
  },
  {
   "cell_type": "code",
   "execution_count": 66,
   "metadata": {},
   "outputs": [
    {
     "data": {
      "text/plain": [
       "' The client sends a message into its socket interface, which is then out of their hands and in the hands of TCP. TCP provides a reliable data transfer service to HTTP requests sent by a client process eventually arrive intact at the server.'"
      ]
     },
     "execution_count": 66,
     "metadata": {},
     "output_type": "execute_result"
    }
   ],
   "source": [
    "retriever = vector_store.as_retriever()\n",
    "\n",
    "qa_chain = (\n",
    "    {'context': retriever | format_docs, 'question' : RunnablePassthrough()}\n",
    "    | rag_prompt| model | StrOutputParser()\n",
    ")\n",
    "\n",
    "qa_chain.invoke('Explain TCP.')"
   ]
  },
  {
   "cell_type": "code",
   "execution_count": 53,
   "metadata": {},
   "outputs": [],
   "source": []
  },
  {
   "cell_type": "code",
   "execution_count": null,
   "metadata": {},
   "outputs": [],
   "source": []
  }
 ],
 "metadata": {
  "kaggle": {
   "accelerator": "none",
   "dataSources": [
    {
     "datasetId": 5474451,
     "sourceId": 9075049,
     "sourceType": "datasetVersion"
    }
   ],
   "dockerImageVersionId": 30746,
   "isGpuEnabled": false,
   "isInternetEnabled": true,
   "language": "python",
   "sourceType": "notebook"
  },
  "kernelspec": {
   "display_name": "Python 3 (ipykernel)",
   "language": "python",
   "name": "python3"
  },
  "language_info": {
   "codemirror_mode": {
    "name": "ipython",
    "version": 3
   },
   "file_extension": ".py",
   "mimetype": "text/x-python",
   "name": "python",
   "nbconvert_exporter": "python",
   "pygments_lexer": "ipython3",
   "version": "3.9.12"
  }
 },
 "nbformat": 4,
 "nbformat_minor": 4
}
